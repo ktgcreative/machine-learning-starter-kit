{
  "nbformat": 4,
  "nbformat_minor": 0,
  "metadata": {
    "colab": {
      "provenance": []
    },
    "kernelspec": {
      "name": "python3",
      "display_name": "Python 3"
    },
    "language_info": {
      "name": "python"
    }
  },
  "cells": [
    {
      "cell_type": "code",
      "execution_count": 1,
      "metadata": {
        "id": "ujDsnWzDkTY1"
      },
      "outputs": [],
      "source": [
        "import pandas as pd"
      ]
    },
    {
      "cell_type": "code",
      "source": [
        "# Import libraries, features and settings (not all of these are needed so pull what you need)\n",
        "\n",
        "import matplotlib.pyplot as plt\n",
        "import numpy as np\n",
        "from sklearn import datasets, linear_model\n",
        "from sklearn.metrics import mean_squared_error, r2_score\n",
        "import pandas as pd\n",
        "import io\n",
        "%matplotlib inline\n",
        "import matplotlib.pyplot as plt\n",
        "import seaborn as sns; sns.set()\n",
        "from sklearn import preprocessing\n",
        "plt.rc(\"font\", size = 14)\n",
        "from sklearn.linear_model import LogisticRegression\n",
        "from sklearn.model_selection import train_test_split\n",
        "sns.set(style=\"white\")\n",
        "sns.set(style=\"whitegrid\", color_codes = True)"
      ],
      "metadata": {
        "id": "vZd2uDFqmVGY"
      },
      "execution_count": 2,
      "outputs": []
    },
    {
      "cell_type": "code",
      "source": [
        "from sklearn.model_selection import train_test_split"
      ],
      "metadata": {
        "id": "OdRePpyzmh3T"
      },
      "execution_count": null,
      "outputs": []
    },
    {
      "cell_type": "markdown",
      "source": [
        "# **TRAIN TEST SPLIT PROCESS**\n",
        "## change data for each dataset"
      ],
      "metadata": {
        "id": "DkMQ0KKVzDMN"
      }
    },
    {
      "cell_type": "code",
      "source": [
        "train,test = train_test_split(data_na,test_size=0.2)"
      ],
      "metadata": {
        "id": "aVHngyIjmlCy"
      },
      "execution_count": null,
      "outputs": []
    },
    {
      "cell_type": "code",
      "source": [
        "label = 'Potability'"
      ],
      "metadata": {
        "id": "nQ1Xo0Txx1AD"
      },
      "execution_count": null,
      "outputs": []
    },
    {
      "cell_type": "code",
      "source": [
        "X_train = train.drop(columns=[label, train.columns[0]])\n",
        "y_train = train[label]\n",
        "\n",
        "# Similarly for test\n",
        "X_test = test.drop(columns=['Potability', 'Unnamed: 0']) # THIS IS INSERTING EVERYTHING, EXCEPT THE LABEL!\n",
        "y_test = test[label]\n"
      ],
      "metadata": {
        "id": "b5lWDd4rnOaO"
      },
      "execution_count": null,
      "outputs": []
    },
    {
      "cell_type": "code",
      "source": [
        "from sklearn.metrics import confusion_matrix"
      ],
      "metadata": {
        "id": "zQHQ6bNZqWA3"
      },
      "execution_count": null,
      "outputs": []
    },
    {
      "cell_type": "code",
      "source": [
        "from sklearn.metrics import accuracy_score"
      ],
      "metadata": {
        "id": "9VOHhQorqpn3"
      },
      "execution_count": null,
      "outputs": []
    },
    {
      "cell_type": "markdown",
      "source": [
        "# Model Syntax\n",
        "\n",
        "\n",
        "*   Define\n",
        "*   Fit\n",
        "*   Predict\n",
        "\n",
        "\n",
        "\n",
        "\n"
      ],
      "metadata": {
        "id": "ySZRFa3M2Uin"
      }
    },
    {
      "cell_type": "markdown",
      "source": [
        "# **Logistic Regression Prediction**"
      ],
      "metadata": {
        "id": "-_wwV8_rzYl_"
      }
    },
    {
      "cell_type": "code",
      "source": [
        "# Import the logistic regression method\n",
        "from sklearn.linear_model import LogisticRegression\n",
        "\n",
        "# Create and fit the logistic regression model using X_train and y_train\n",
        "clf = LogisticRegression(solver='lbfgs', max_iter=400).fit(X_train, y_train.values.ravel())\n",
        "\n",
        "# Let's see how it performs\n",
        "clf.score(X_train, y_train.values.ravel()) # this prints the accuracy score\n",
        "y_pred = clf.predict(X_test)"
      ],
      "metadata": {
        "id": "o9PqoyIFo7MX"
      },
      "execution_count": null,
      "outputs": []
    },
    {
      "cell_type": "code",
      "source": [
        "# lets calculate the score\n",
        "accuracy_score(y_pred,y_test)"
      ],
      "metadata": {
        "id": "yM80AGyby1lb"
      },
      "execution_count": null,
      "outputs": []
    },
    {
      "cell_type": "code",
      "source": [
        "confusion_matrix(y_test,y_pred)"
      ],
      "metadata": {
        "id": "flGC17gayY3g"
      },
      "execution_count": null,
      "outputs": []
    },
    {
      "cell_type": "markdown",
      "source": [
        "# **Decision Tree Prediction**"
      ],
      "metadata": {
        "id": "fda1UGWgzJ89"
      }
    },
    {
      "cell_type": "code",
      "source": [
        "from sklearn import tree\n",
        "\n",
        "beachtree = tree.DecisionTreeClassifier(random_state=88)\n",
        "\n",
        "beachtree.fit(X_train,y_train)\n",
        "\n",
        "y_tree_pred = beachtree.predict(X_test)"
      ],
      "metadata": {
        "id": "5DjXYGnbumRg"
      },
      "execution_count": null,
      "outputs": []
    },
    {
      "cell_type": "code",
      "source": [
        "# lets calculate the score\n",
        "accuracy_score(y_tree_pred,y_test)"
      ],
      "metadata": {
        "id": "d60PncXPqjbm"
      },
      "execution_count": null,
      "outputs": []
    },
    {
      "cell_type": "code",
      "source": [
        "confusion_matrix(y_test,y_tree_pred)"
      ],
      "metadata": {
        "id": "AZGPKeoIrC6Q"
      },
      "execution_count": null,
      "outputs": []
    },
    {
      "cell_type": "markdown",
      "source": [
        "# Passive Aggressive Prediction\n"
      ],
      "metadata": {
        "id": "vbvsq_Iez_ZW"
      }
    },
    {
      "cell_type": "code",
      "source": [
        "from sklearn.linear_model import PassiveAggressiveClassifier\n",
        "\n",
        "pac = PassiveAggressiveClassifier(random_state=42)\n",
        "\n",
        "pac.fit(X_train,y_train)\n",
        "\n",
        "y_pac_pred = pac.predict(X_test)"
      ],
      "metadata": {
        "id": "Ruzl69DKz-FL"
      },
      "execution_count": null,
      "outputs": []
    },
    {
      "cell_type": "code",
      "source": [
        "# lets calculate the score\n",
        "accuracy_score(y_pac_pred,y_test)"
      ],
      "metadata": {
        "id": "0HgnPJgn0l-3"
      },
      "execution_count": null,
      "outputs": []
    },
    {
      "cell_type": "code",
      "source": [
        "confusion_matrix(y_test,y_pac_pred)"
      ],
      "metadata": {
        "id": "sp7mJMff0m-k"
      },
      "execution_count": null,
      "outputs": []
    },
    {
      "cell_type": "markdown",
      "source": [
        "# Passive Aggressive Prediction\n"
      ],
      "metadata": {
        "id": "UXIzfjbS1ULO"
      }
    },
    {
      "cell_type": "code",
      "source": [
        "from sklearn.linear_model import RidgeClassifier\n",
        "\n",
        "ridge_classifier = RidgeClassifier(random_state=42)\n",
        "\n",
        "ridge_classifier.fit(X_train,y_train)\n",
        "\n",
        "y_ridge_pred = ridge_classifier.predict(X_test)"
      ],
      "metadata": {
        "id": "jlwrIO0J1bmo"
      },
      "execution_count": null,
      "outputs": []
    },
    {
      "cell_type": "code",
      "source": [
        "# lets calculate the score\n",
        "accuracy_score(y_ridge_pred,y_test)"
      ],
      "metadata": {
        "id": "j3ntN2X92FCv"
      },
      "execution_count": null,
      "outputs": []
    },
    {
      "cell_type": "code",
      "source": [
        "confusion_matrix(y_test,y_ridge_pred)"
      ],
      "metadata": {
        "id": "MVObFn7i2Gpp"
      },
      "execution_count": null,
      "outputs": []
    },
    {
      "cell_type": "code",
      "source": [
        "from flaml import AutoML\n",
        "automl= AutoML()\n",
        "automl.fit(X_train, y_train, task='classification')"
      ],
      "metadata": {
        "id": "sFCJBclJaQ0U"
      },
      "execution_count": null,
      "outputs": []
    },
    {
      "cell_type": "code",
      "source": [
        "y_pred_automl = automl.predict(X_test)"
      ],
      "metadata": {
        "id": "i52J_KeubXBw"
      },
      "execution_count": null,
      "outputs": []
    },
    {
      "cell_type": "code",
      "source": [
        "confusion_matrix(y_test,y_pred_automl)"
      ],
      "metadata": {
        "id": "7Q3Zd21dbgF8"
      },
      "execution_count": null,
      "outputs": []
    },
    {
      "cell_type": "code",
      "source": [
        "automl.score(X_test, y_pred_automl)"
      ],
      "metadata": {
        "id": "wkMGEJntbiEM"
      },
      "execution_count": null,
      "outputs": []
    },
    {
      "cell_type": "code",
      "source": [
        "automl.best_config"
      ],
      "metadata": {
        "id": "j2Z0FKINbjuY"
      },
      "execution_count": null,
      "outputs": []
    },
    {
      "cell_type": "code",
      "source": [
        "automl.feature_importances_"
      ],
      "metadata": {
        "id": "cwot4yAublvM"
      },
      "execution_count": null,
      "outputs": []
    }
  ]
}