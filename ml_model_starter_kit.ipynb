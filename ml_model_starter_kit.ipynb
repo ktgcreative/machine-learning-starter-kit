{
  "nbformat": 4,
  "nbformat_minor": 0,
  "metadata": {
    "colab": {
      "provenance": []
    },
    "kernelspec": {
      "name": "python3",
      "display_name": "Python 3"
    },
    "language_info": {
      "name": "python"
    }
  },
  "cells": [
    {
      "cell_type": "markdown",
      "source": [
        "---\n",
        "\n",
        "# Machine Learning Model Starter-Kit\n",
        "\n",
        "In this notebook, we'll explore two distinct approaches to machine learning using scikit-learn:\n",
        "\n",
        "1. A simple logistic regression\n",
        "2. Multiple Model method\n",
        "---"
      ],
      "metadata": {
        "id": "Zwh1O1abYy8F"
      }
    },
    {
      "cell_type": "markdown",
      "source": [
        "\n",
        "\n",
        "## **1. Logistic Regression**\n",
        "### (You can also adjust the `threshold`)\n",
        "\n",
        "Logistic regression is a statistical method for analysing datasets where the outcome is binary. It's used to predict a binary outcome based on one or more predictor variables.\n",
        "\n",
        "### You need to adjust these to your data:\n",
        "```\n",
        "X = df[[\"your_features_go_here\"]]\n",
        "y = df[\"your_label_goes_here\"]\n",
        "```\n",
        "\n",
        "---"
      ],
      "metadata": {
        "id": "slrCTNmvT5GL"
      }
    },
    {
      "cell_type": "code",
      "source": [
        "# Import necessary libraries\n",
        "from sklearn.linear_model import LogisticRegression\n",
        "from sklearn.model_selection import train_test_split\n",
        "from sklearn.metrics import accuracy_score\n",
        "import pandas as pd\n",
        "\n",
        "# Load your data (assuming it's in a CSV file)\n",
        "# df = pd.read_csv('your_data_file.csv')\n",
        "\n",
        "# Define features and labels\n",
        "X = df[[\"your_features_go_here\"]]\n",
        "y = df[\"your_label_goes_here\"]\n",
        "\n",
        "# Split data into training and testing sets\n",
        "X_train, X_test, y_train, y_test = train_test_split(X, y, test_size=0.2, random_state=42)\n",
        "\n",
        "# Define your model\n",
        "model = LogisticRegression()\n",
        "\n",
        "# Fit the model with training data\n",
        "model.fit(X_train, y_train)\n",
        "\n",
        "# Get the probabilities of the positive class\n",
        "probabilities = model.predict_proba(X_test)[:, 1]\n",
        "\n",
        "# Apply threshold\n",
        "threshold = 0.7\n",
        "\n",
        "y_pred = [1 if prob > threshold else 0 for prob in probabilities]\n",
        "\n",
        "# Calculate the accuracy of the model\n",
        "accuracy = accuracy_score(y_test, y_pred)\n",
        "\n",
        "# Print the accuracy\n",
        "print(f\"Accuracy of Logistic Regression with threshold {threshold}: {accuracy:.2f}\")"
      ],
      "metadata": {
        "id": "qH-i5vFpZVQd"
      },
      "execution_count": null,
      "outputs": []
    },
    {
      "cell_type": "markdown",
      "source": [
        "\n",
        "---\n",
        "\n",
        "## **2. Multiple Models**\n",
        "\n",
        "### Why Use a Single Function for Multiple Models?\n",
        "\n",
        "- **Consistency**: Ensures every model is trained and evaluated in the same manner.\n",
        "- **Efficiency**: Reduces repetitive code and makes the codebase cleaner.\n",
        "- **Flexibility**: Easily add or remove models or change evaluation metrics.\n",
        "- **Error Reduction**: Minimizes chances of errors from repetitive code.\n",
        "\n",
        "### **You need to adjust these to your data:**\n",
        "```\n",
        "X = df[[\"your_features_go_here\"]]\n",
        "y = df[\"your_label_goes_here\"]\n",
        "```\n",
        "\n",
        "```\n",
        "models = {\n",
        "\n",
        "    \"Decision Tree\": DecisionTreeClassifier(),\n",
        "\n",
        "    \"Random Forest\": RandomForestClassifier(),\n",
        "\n",
        "    \"Gradient Boosting\": GradientBoostingClassifier(),\n",
        "\n",
        "    }\n",
        "```\n",
        "\n",
        "---\n"
      ],
      "metadata": {
        "id": "GLmUed1sU6HQ"
      }
    },
    {
      "cell_type": "code",
      "source": [
        "# Import necessary libraries\n",
        "from sklearn.ensemble import GradientBoostingClassifier, RandomForestClassifier\n",
        "from sklearn.tree import DecisionTreeClassifier\n",
        "from sklearn.model_selection import train_test_split\n",
        "from sklearn.metrics import accuracy_score, recall_score, precision_score, f1_score\n",
        "from sklearn.preprocessing import LabelEncoder\n",
        "import pandas as pd\n",
        "\n",
        "# Define features and labels\n",
        "X = df[[\"your_features_go_here\"]]\n",
        "y = df[\"your_label_goes_here\"]\n",
        "\n",
        "# Split data into training and testing sets\n",
        "X_train, X_test, y_train, y_test = train_test_split(X, y, test_size=0.2, random_state=42)\n",
        "\n",
        "# Define models and experiment with hyperparameters (HP)\n",
        "models = {\n",
        "\n",
        "    # Decision Trees:\n",
        "    \"Decision Tree\": DecisionTreeClassifier(),\n",
        "    \"Decision Tree HP\": DecisionTreeClassifier(max_depth=5, min_samples_split=10, random_state=42),\n",
        "\n",
        "    # Random Forests:\n",
        "    \"Random Forest\": RandomForestClassifier(),\n",
        "    \"Random Forest HP\": RandomForestClassifier(random_state=42, min_samples_split=10, max_depth=5),\n",
        "\n",
        "    # Gradient Boosting\n",
        "    \"Gradient Boosting\": GradientBoostingClassifier(),\n",
        "    \"Gradient Boosting HP\": GradientBoostingClassifier(random_state=42, min_samples_split=10, max_depth=5),\n",
        "\n",
        "    }\n",
        "\n",
        "\n",
        "def evaluate_model(model, X_train, y_train, X_test, y_test, X, y):\n",
        "\n",
        "    # Train the model\n",
        "    model.fit(X_train, y_train.values.ravel())\n",
        "\n",
        "    # Make predictions\n",
        "    y_train_pred = model.predict(X_train)\n",
        "    y_test_pred = model.predict(X_test)\n",
        "    y_overall_pred = model.predict(X)\n",
        "\n",
        "    # Calculate performance metrics\n",
        "    train_acc = round(accuracy_score(y_train_pred, y_train), 4)\n",
        "    test_acc = round(accuracy_score(y_test_pred, y_test), 4)\n",
        "    overall_acc = round(accuracy_score(y_overall_pred, y), 4)\n",
        "    test_recall = round(recall_score(y_test, y_test_pred), 4)\n",
        "    test_precision = round(precision_score(y_test, y_test_pred), 4)\n",
        "    test_f1 = round(f1_score(y_test, y_test_pred), 4)\n",
        "\n",
        "    return test_acc, train_acc, overall_acc, test_recall, test_precision, test_f1\n",
        "\n",
        "# Evaluate each model and store results\n",
        "results = []\n",
        "for name, model in models.items():\n",
        "    test_acc, train_acc, overall_acc, test_recall, test_precision, test_f1 = evaluate_model(model, X_train, y_train, X_test, y_test, X, y)\n",
        "    results.append([name, test_acc, train_acc, overall_acc, test_recall, test_precision, test_f1])\n",
        "\n",
        "# Convert results to a DataFrame and display\n",
        "results_df = pd.DataFrame(results, columns=['Model', 'Test Accuracy', 'Train Accuracy', 'Overall Accuracy', 'Test Recall', 'Test Precision', 'Test F1 Score'])\n",
        "results_df.head()\n"
      ],
      "metadata": {
        "id": "roPC3Sdr8Zkl"
      },
      "execution_count": null,
      "outputs": []
    }
  ]
}